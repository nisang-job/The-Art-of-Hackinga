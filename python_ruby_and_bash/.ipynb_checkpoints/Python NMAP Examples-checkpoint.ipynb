{
 "cells": [
  {
   "cell_type": "markdown",
   "metadata": {},
   "source": [
    "# Omar's Python-nmap Examples\n",
    "python-nmap is a python library which helps in using nmap port scanner and create your own tools. It allows to easily manipulate nmap scan results and is great if you want to automate scanning tasks and reports. It also supports nmap script outputs.\n",
    "Install python-nmap using `pip` or `pip3` (`pip3` is recommended, since you should be using Python3 instead of Python2 😁), as shown below:\n",
    "```\n",
    "❯ pip3 install python-nmap\n",
    "Collecting python-nmap\n",
    "  Downloading python-nmap-0.6.1.tar.gz (41 kB)\n",
    "     |████████████████████████████████| 41 kB 2.1 MB/s\n",
    "Building wheels for collected packages: python-nmap\n",
    "  Building wheel for python-nmap (setup.py) ... done\n",
    "  Created wheel for python-nmap: filename=python_nmap-0.6.1-py3-none-any.whl size=19325 sha256=68d8319be838af5829a61754c289de9156c8035955900d084601fa8623e36fc0\n",
    "  Stored in directory: /Users/omar/Library/Caches/pip/wheels/e8/19/6a/555b2642846c6665ebe3ee8c788115cd8a68398adfe3c55708\n",
    "Successfully built python-nmap\n",
    "Installing collected packages: python-nmap\n",
    "Successfully installed python-nmap-0.6.1\n",
    "```"
   ]
  },
  {
   "cell_type": "code",
   "execution_count": 7,
   "metadata": {},
   "outputs": [],
   "source": [
    "# importing the nmap module\n",
    "import nmap"
   ]
  },
  {
   "cell_type": "code",
   "execution_count": 8,
   "metadata": {},
   "outputs": [
    {
     "ename": "PortScannerError",
     "evalue": "'nmap program was not found in path. PATH is : /usr/local/bin:/usr/bin:/bin:/usr/sbin:/sbin'",
     "output_type": "error",
     "traceback": [
      "\u001b[0;31m---------------------------------------------------------------------------\u001b[0m",
      "\u001b[0;31mPortScannerError\u001b[0m                          Traceback (most recent call last)",
      "\u001b[0;32m<ipython-input-8-4bbfd0d7dab2>\u001b[0m in \u001b[0;36m<module>\u001b[0;34m\u001b[0m\n\u001b[0;32m----> 1\u001b[0;31m \u001b[0mnm\u001b[0m \u001b[0;34m=\u001b[0m \u001b[0mnmap\u001b[0m\u001b[0;34m.\u001b[0m\u001b[0mPortScanner\u001b[0m\u001b[0;34m(\u001b[0m\u001b[0;34m)\u001b[0m\u001b[0;34m\u001b[0m\u001b[0;34m\u001b[0m\u001b[0m\n\u001b[0m\u001b[1;32m      2\u001b[0m \u001b[0mnm\u001b[0m\u001b[0;34m.\u001b[0m\u001b[0mscan\u001b[0m\u001b[0;34m(\u001b[0m\u001b[0;34m'192.168.78.7'\u001b[0m\u001b[0;34m)\u001b[0m\u001b[0;34m\u001b[0m\u001b[0;34m\u001b[0m\u001b[0m\n",
      "\u001b[0;32m/usr/local/lib/python3.7/site-packages/nmap/nmap.py\u001b[0m in \u001b[0;36m__init__\u001b[0;34m(self, nmap_search_path)\u001b[0m\n\u001b[1;32m    129\u001b[0m             raise PortScannerError(\n\u001b[1;32m    130\u001b[0m                 'nmap program was not found in path. PATH is : {0}'.format(\n\u001b[0;32m--> 131\u001b[0;31m                     \u001b[0mos\u001b[0m\u001b[0;34m.\u001b[0m\u001b[0mgetenv\u001b[0m\u001b[0;34m(\u001b[0m\u001b[0;34m'PATH'\u001b[0m\u001b[0;34m)\u001b[0m\u001b[0;34m\u001b[0m\u001b[0;34m\u001b[0m\u001b[0m\n\u001b[0m\u001b[1;32m    132\u001b[0m                 )\n\u001b[1;32m    133\u001b[0m             )\n",
      "\u001b[0;31mPortScannerError\u001b[0m: 'nmap program was not found in path. PATH is : /usr/local/bin:/usr/bin:/bin:/usr/sbin:/sbin'"
     ]
    }
   ],
   "source": [
    "nm = nmap.PortScanner()\n",
    "nm.scan('192.168.78.7')"
   ]
  },
  {
   "cell_type": "code",
   "execution_count": null,
   "metadata": {},
   "outputs": [],
   "source": []
  },
  {
   "cell_type": "code",
   "execution_count": null,
   "metadata": {},
   "outputs": [],
   "source": []
  },
  {
   "cell_type": "code",
   "execution_count": null,
   "metadata": {},
   "outputs": [],
   "source": []
  },
  {
   "cell_type": "code",
   "execution_count": null,
   "metadata": {},
   "outputs": [],
   "source": []
  }
 ],
 "metadata": {
  "kernelspec": {
   "display_name": "Python 3",
   "language": "python",
   "name": "python3"
  },
  "language_info": {
   "codemirror_mode": {
    "name": "ipython",
    "version": 3
   },
   "file_extension": ".py",
   "mimetype": "text/x-python",
   "name": "python",
   "nbconvert_exporter": "python",
   "pygments_lexer": "ipython3",
   "version": "3.7.7"
  }
 },
 "nbformat": 4,
 "nbformat_minor": 4
}
